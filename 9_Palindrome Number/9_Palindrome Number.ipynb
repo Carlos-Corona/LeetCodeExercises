{
 "cells": [
  {
   "attachments": {},
   "cell_type": "markdown",
   "metadata": {},
   "source": [
    "Author: Carlos Corona https://github.com/Carlos-Corona\n",
    "\n",
    "Creation Date: 5/5/2023\n",
    "\n",
    "Description: \n",
    "Given an integer x, return true if x is a \n",
    "palindrome, and false otherwise.\n",
    "\n",
    "Solution to: 9. Palindrome Number\n",
    "URL: https://leetcode.com/problems/palindrome-number/"
   ]
  },
  {
   "cell_type": "code",
   "execution_count": null,
   "metadata": {},
   "outputs": [],
   "source": [
    "\n",
    "class Solution:\n",
    "    def isPalindrome(self, x: int) -> bool:\n",
    "        int_string = str(x)\n",
    "        left, rigth = 0, len(int_string) - 1\n",
    "        while left <= rigth:\n",
    "            if int_string[left] == int_string[rigth]:\n",
    "                left += 1\n",
    "                rigth -= 1\n",
    "            else: return False\n",
    "        return True\n",
    "        \n",
    "if __name__ == \"__main__\":\n",
    "    res = Solution.isPalindrome(Solution, 11011)\n",
    "    print(res)\n",
    "    "
   ]
  },
  {
   "cell_type": "code",
   "execution_count": 1,
   "metadata": {},
   "outputs": [
    {
     "name": "stdout",
     "output_type": "stream",
     "text": [
      "True\n"
     ]
    }
   ],
   "source": [
    "\n",
    "class Solution:\n",
    "    def isPalindrome(self, x: int) -> bool:\n",
    "        int_string = str(x)\n",
    "        return int_string == int_string[::-1]\n",
    "        \n",
    "if __name__ == \"__main__\":\n",
    "    res = Solution.isPalindrome(Solution, 11011)\n",
    "    print(res)\n",
    "    "
   ]
  },
  {
   "cell_type": "code",
   "execution_count": null,
   "metadata": {},
   "outputs": [],
   "source": [
    "class Solution:\n",
    "    def isPalindrome(self, x: int) -> bool:\n",
    "        if x < 0:\n",
    "            return False\n",
    "        number = x\n",
    "        reversed_number = 0\n",
    "        while number != 0:\n",
    "            digit = number % 10\n",
    "            reversed_number = reversed_number * 10 + digit\n",
    "            number //= 10\n",
    "        return reversed_number == x\n",
    "        \n",
    "if __name__ == \"__main__\":\n",
    "    res = Solution.isPalindrome(Solution, 11011)\n",
    "    print(res)"
   ]
  }
 ],
 "metadata": {
  "kernelspec": {
   "display_name": "Python 3",
   "language": "python",
   "name": "python3"
  },
  "language_info": {
   "codemirror_mode": {
    "name": "ipython",
    "version": 3
   },
   "file_extension": ".py",
   "mimetype": "text/x-python",
   "name": "python",
   "nbconvert_exporter": "python",
   "pygments_lexer": "ipython3",
   "version": "3.11.3"
  },
  "orig_nbformat": 4
 },
 "nbformat": 4,
 "nbformat_minor": 2
}
