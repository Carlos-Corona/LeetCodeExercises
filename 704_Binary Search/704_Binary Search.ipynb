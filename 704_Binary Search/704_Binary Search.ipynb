{
 "cells": [
  {
   "attachments": {},
   "cell_type": "markdown",
   "metadata": {},
   "source": [
    "Author: Carlos Corona https://github.com/Carlos-Corona\n",
    "\n",
    "Creation Date: 5/5/2023\n",
    "\n",
    "Description: \n",
    "Given an integer x, return true if x is a \n",
    "palindrome, and false otherwise.\n",
    "\n",
    "Solution to: 704. Binary Search\n",
    "URL: https://leetcode.com/problems/binary-search/"
   ]
  },
  {
   "cell_type": "code",
   "execution_count": 1,
   "metadata": {},
   "outputs": [
    {
     "name": "stdout",
     "output_type": "stream",
     "text": [
      "0\n"
     ]
    }
   ],
   "source": [
    "from typing import List\n",
    "from typing import Optional\n",
    "# Definition for singly-linked list.\n",
    "class Solution:\n",
    "    def search(self, nums: List[int], target: int) -> int:\n",
    "        for n in range(len(nums)):\n",
    "            if nums[n] == target:\n",
    "                return n\n",
    "        return -1    \n",
    "        \n",
    "if __name__ == \"__main__\":\n",
    "    nums = [-1,0,3,5,9,12]\n",
    "    target = -1\n",
    "    sol = Solution()\n",
    "    res = sol.search(nums,target)\n",
    "    print(res)"
   ]
  },
  {
   "cell_type": "code",
   "execution_count": null,
   "metadata": {},
   "outputs": [],
   "source": [
    "from typing import List\n",
    "from typing import Optional\n",
    "# Definition for singly-linked list.\n",
    "class Solution:\n",
    "    def search(self, nums: List[int], target: int) -> int:\n",
    "        mid = (len(nums)) // 2\n",
    "        left, rigth = 0, mid\n",
    "        while left <= mid:\n",
    "                if nums[left] == target:\n",
    "                    return left\n",
    "                if nums[rigth] == target:\n",
    "                    return rigth\n",
    "                if rigth < len(nums) - 1:\n",
    "                    rigth = rigth + 1\n",
    "                if left <= mid:\n",
    "                    left = left + 1\n",
    "        return -1    \n",
    "        \n",
    "if __name__ == \"__main__\":\n",
    "    # [-1,0,3,5,9,12] = 9, 2\n",
    "    # [5] = 3 ,5\n",
    "    # [-1,0,5] = 5\n",
    "    # [2,5] = 5\n",
    "    nums = [-1,0,3,5,9,12]\n",
    "    target = 12\n",
    "    sol = Solution()\n",
    "    res = sol.search(nums,target)\n",
    "    print(res)\n",
    "    "
   ]
  }
 ],
 "metadata": {
  "kernelspec": {
   "display_name": "Python 3",
   "language": "python",
   "name": "python3"
  },
  "language_info": {
   "codemirror_mode": {
    "name": "ipython",
    "version": 3
   },
   "file_extension": ".py",
   "mimetype": "text/x-python",
   "name": "python",
   "nbconvert_exporter": "python",
   "pygments_lexer": "ipython3",
   "version": "3.11.3"
  },
  "orig_nbformat": 4
 },
 "nbformat": 4,
 "nbformat_minor": 2
}
