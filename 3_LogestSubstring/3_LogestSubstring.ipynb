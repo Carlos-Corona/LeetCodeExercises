{
 "cells": [
  {
   "attachments": {},
   "cell_type": "markdown",
   "metadata": {},
   "source": [
    "Author: Carlos Corona https://github.com/Carlos-Corona\n",
    "\n",
    "Creation Date: 5/5/2023\n",
    "\n",
    "Description: \n",
    "Given a string s, find the length of the longest \n",
    "substring without repeating characters.\n",
    "\n",
    "Solution to: 3. Longest Substring Without Repeating Characters\n",
    "URL: https://leetcode.com/problems/longest-substring-without-repeating-characters/"
   ]
  },
  {
   "cell_type": "code",
   "execution_count": null,
   "metadata": {},
   "outputs": [],
   "source": [
    "class Solution:\n",
    "    def lengthOfLongestSubstring(self, s: str) -> int:\n",
    "        max_subs = 0\n",
    "        this_subs = 0\n",
    "        dummy = 0\n",
    "        for max in range(len(s)):\n",
    "            counter = 1\n",
    "            this_subs = dummy\n",
    "            while counter <= max - dummy:\n",
    "                if s[this_subs + (counter - 1)] == s[max]:\n",
    "                    dummy = this_subs + counter\n",
    "                    break\n",
    "                counter += 1\n",
    "            if max_subs < counter:\n",
    "                for n in range(dummy,max+1):\n",
    "                    print(s[n],end=' ')\n",
    "                print('')\n",
    "                max_subs = counter\n",
    "        return max_subs \n",
    "        \n",
    "if __name__ == \"__main__\":\n",
    "    # pwwkerwy, aab\n",
    "    res = Solution.lengthOfLongestSubstring(Solution, \"pwwkerwywstyipq\")\n",
    "    print(res)\n",
    "    "
   ]
  }
 ],
 "metadata": {
  "language_info": {
   "name": "python"
  },
  "orig_nbformat": 4
 },
 "nbformat": 4,
 "nbformat_minor": 2
}
