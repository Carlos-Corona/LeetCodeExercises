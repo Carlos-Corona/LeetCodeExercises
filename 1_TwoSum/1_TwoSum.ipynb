{
 "cells": [
  {
   "attachments": {},
   "cell_type": "markdown",
   "metadata": {},
   "source": [
    "Author: Carlos Corona https://github.com/Carlos-Corona\n",
    "Creation Date: 5/5/2023\n",
    "\n",
    "Description: \n",
    "Given an array of integers nums and an integer target, return  indices of the two numbers such that they add up to target.\n",
    "\n",
    "You may assume that each input would have exactly one solution, and you may not use the same element twice.\n",
    "\n",
    "You can return the answer in any order.\n",
    "\n",
    "Solution to: 1. Two Sum\n",
    "URL: https://leetcode.com/problems/two-sum/"
   ]
  },
  {
   "cell_type": "code",
   "execution_count": 27,
   "metadata": {},
   "outputs": [
    {
     "name": "stdout",
     "output_type": "stream",
     "text": [
      "None\n"
     ]
    }
   ],
   "source": [
    "from typing import List\n",
    "class Solution:\n",
    "    def twoSum(self, nums: List[int], target: int) -> List[int]:\n",
    "        if len(nums) < 2:\n",
    "            return\n",
    "        for i,n in enumerate(nums): \n",
    "            for k, x in enumerate(nums[i + 1:]):\n",
    "                if target == n + x:\n",
    "                    print(n,x)\n",
    "                    return i,k+(i + 1)\n",
    "            \n",
    "if __name__ == \"__main__\":\n",
    "    nums = [2,5,5,11]\n",
    "    target = 10\n",
    "    print(Solution().twoSum(nums, target))"
   ]
  },
  {
   "cell_type": "code",
   "execution_count": null,
   "metadata": {},
   "outputs": [],
   "source": [
    "from typing import List\n",
    "class Solution:\n",
    "    def twoSum(self, nums: List[int], target: int) -> List[int]:\n",
    "        if len(nums) < 2:\n",
    "            return\n",
    "        for n in range(len(nums)): \n",
    "            for k in range(n+1,len(nums)):\n",
    "                if target == nums[n] + nums[k]:\n",
    "                    return n,k       \n",
    "            \n",
    "if __name__ == \"__main__\":\n",
    "    nums = [2,5,5,11]\n",
    "    target = 10\n",
    "    print(Solution().twoSum(nums, target))"
   ]
  }
 ],
 "metadata": {
  "kernelspec": {
   "display_name": "Python 3",
   "language": "python",
   "name": "python3"
  },
  "language_info": {
   "codemirror_mode": {
    "name": "ipython",
    "version": 3
   },
   "file_extension": ".py",
   "mimetype": "text/x-python",
   "name": "python",
   "nbconvert_exporter": "python",
   "pygments_lexer": "ipython3",
   "version": "3.11.3"
  },
  "orig_nbformat": 4
 },
 "nbformat": 4,
 "nbformat_minor": 2
}
